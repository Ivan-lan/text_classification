{
 "cells": [
  {
   "cell_type": "markdown",
   "metadata": {},
   "source": [
    "## textCNN文本分类"
   ]
  },
  {
   "cell_type": "code",
   "execution_count": 1,
   "metadata": {},
   "outputs": [
    {
     "name": "stdout",
     "output_type": "stream",
     "text": [
      "WARNING:tensorflow:From D:\\Software_install_here\\Anaconda3\\lib\\site-packages\\tensorflow\\python\\framework\\op_def_library.py:263: colocate_with (from tensorflow.python.framework.ops) is deprecated and will be removed in a future version.\n",
      "Instructions for updating:\n",
      "Colocations handled automatically by placer.\n",
      "WARNING:tensorflow:From D:\\Software_install_here\\Anaconda3\\lib\\site-packages\\tensorflow\\python\\keras\\layers\\core.py:143: calling dropout (from tensorflow.python.ops.nn_ops) with keep_prob is deprecated and will be removed in a future version.\n",
      "Instructions for updating:\n",
      "Please use `rate` instead of `keep_prob`. Rate should be set to `rate = 1 - keep_prob`.\n",
      "WARNING:tensorflow:From D:\\Software_install_here\\Anaconda3\\lib\\site-packages\\tensorflow\\python\\ops\\math_ops.py:3066: to_int32 (from tensorflow.python.ops.math_ops) is deprecated and will be removed in a future version.\n",
      "Instructions for updating:\n",
      "Use tf.cast instead.\n",
      "WARNING:tensorflow:From D:\\Software_install_here\\Anaconda3\\lib\\site-packages\\tensorflow\\python\\ops\\math_grad.py:102: div (from tensorflow.python.ops.math_ops) is deprecated and will be removed in a future version.\n",
      "Instructions for updating:\n",
      "Deprecated in favor of operator or tf.math.divide.\n"
     ]
    }
   ],
   "source": [
    "from textCNN.textCNN import TextCNN\n",
    "\n",
    "model = TextCNN()"
   ]
  },
  {
   "cell_type": "code",
   "execution_count": 2,
   "metadata": {},
   "outputs": [
    {
     "name": "stdout",
     "output_type": "stream",
     "text": [
      "训练集加载成功,共  50000  条数据。\n",
      "字符-id映射字典加载成功！\n",
      "训练集数据预处理完成！\n",
      "验证集加载和预处理完成，共 5000 条数据。\n",
      "开始训练模型！\n",
      "Epoch: 1\n",
      "Iter:     0, Train loss:   2.3,Train acc:  6.25%,                           Val loss:   2.3, Val acc: 11.14%  *\n",
      "Iter:   100, Train loss:  0.82,Train acc: 73.44%,                           Val loss:   1.1, Val acc: 70.72%  *\n",
      "Iter:   200, Train loss:  0.22,Train acc: 93.75%,                           Val loss:  0.56, Val acc: 83.64%  *\n",
      "Iter:   300, Train loss:  0.21,Train acc: 92.19%,                           Val loss:   0.4, Val acc: 89.04%  *\n",
      "Iter:   400, Train loss:  0.21,Train acc: 93.75%,                           Val loss:   0.4, Val acc: 87.58%  \n",
      "模型性能在验证集上不再提升，提前停止训练……\n"
     ]
    }
   ],
   "source": [
    "model.train('textCNN\\\\data\\\\train_data.txt','textCNN\\\\data\\\\val_data.txt')"
   ]
  },
  {
   "cell_type": "code",
   "execution_count": 6,
   "metadata": {},
   "outputs": [
    {
     "name": "stdout",
     "output_type": "stream",
     "text": [
      "测试集加载和预处理完成，共  10000  条数据。\n",
      "Test loss:   0.18, Test acc:  94.90%\n",
      "精确率   召回率   F1分数\n",
      "              precision    recall  f1-score   support\n",
      "\n",
      "          科技       0.95      0.97      0.96      1000\n",
      "          体育       0.99      0.99      0.99      1000\n",
      "          财经       0.95      0.99      0.97      1000\n",
      "          房产       0.99      1.00      0.99      1000\n",
      "          教育       0.89      0.91      0.90      1000\n",
      "          娱乐       0.97      0.96      0.97      1000\n",
      "          时尚       0.97      0.95      0.96      1000\n",
      "          家居       0.92      0.87      0.89      1000\n",
      "          时政       0.90      0.91      0.91      1000\n",
      "          游戏       0.95      0.95      0.95      1000\n",
      "\n",
      "   micro avg       0.95      0.95      0.95     10000\n",
      "   macro avg       0.95      0.95      0.95     10000\n",
      "weighted avg       0.95      0.95      0.95     10000\n",
      "\n",
      "混淆矩阵：\n",
      "[[971   0   2   0   4   1   0  10   2  10]\n",
      " [  1 993   0   0   3   0   0   1   2   0]\n",
      " [  3   0 987   0   1   0   0   0   9   0]\n",
      " [  1   0   0 996   0   0   0   3   0   0]\n",
      " [ 11   3   7   1 907   8  11  13  16  23]\n",
      " [  4   3   2   2   9 964   2   8   2   4]\n",
      " [  5   2   0   0  12  11 946  17   2   5]\n",
      " [ 14   0  14   2  22   4   6 866  65   7]\n",
      " [  6   1  21   0  48   1   0   7 912   4]\n",
      " [  4   2   8   2   9   2   9  12   4 948]]\n"
     ]
    }
   ],
   "source": [
    "model.test('textCNN\\\\data\\\\test_data.txt')"
   ]
  },
  {
   "cell_type": "code",
   "execution_count": 7,
   "metadata": {},
   "outputs": [
    {
     "name": "stdout",
     "output_type": "stream",
     "text": [
      "数据加载完成，共  3 条数据\n",
      "字典加载完成！\n",
      "数据预处理完成！\n"
     ]
    },
    {
     "data": {
      "text/plain": [
       "['体育', '财经', '时政']"
      ]
     },
     "execution_count": 7,
     "metadata": {},
     "output_type": "execute_result"
    }
   ],
   "source": [
    "model.predict('textCNN\\\\data\\\\pred_data.txt') # 预测"
   ]
  },
  {
   "cell_type": "markdown",
   "metadata": {},
   "source": [
    "### 加载模型"
   ]
  },
  {
   "cell_type": "code",
   "execution_count": 1,
   "metadata": {},
   "outputs": [
    {
     "name": "stdout",
     "output_type": "stream",
     "text": [
      "WARNING:tensorflow:From D:\\Software_install_here\\Anaconda3\\lib\\site-packages\\tensorflow\\python\\framework\\op_def_library.py:263: colocate_with (from tensorflow.python.framework.ops) is deprecated and will be removed in a future version.\n",
      "Instructions for updating:\n",
      "Colocations handled automatically by placer.\n",
      "WARNING:tensorflow:From D:\\Software_install_here\\Anaconda3\\lib\\site-packages\\tensorflow\\python\\keras\\layers\\core.py:143: calling dropout (from tensorflow.python.ops.nn_ops) with keep_prob is deprecated and will be removed in a future version.\n",
      "Instructions for updating:\n",
      "Please use `rate` instead of `keep_prob`. Rate should be set to `rate = 1 - keep_prob`.\n",
      "WARNING:tensorflow:From D:\\Software_install_here\\Anaconda3\\lib\\site-packages\\tensorflow\\python\\ops\\math_ops.py:3066: to_int32 (from tensorflow.python.ops.math_ops) is deprecated and will be removed in a future version.\n",
      "Instructions for updating:\n",
      "Use tf.cast instead.\n",
      "WARNING:tensorflow:From D:\\Software_install_here\\Anaconda3\\lib\\site-packages\\tensorflow\\python\\ops\\math_grad.py:102: div (from tensorflow.python.ops.math_ops) is deprecated and will be removed in a future version.\n",
      "Instructions for updating:\n",
      "Deprecated in favor of operator or tf.math.divide.\n"
     ]
    }
   ],
   "source": [
    "from textCNN.textCNN import TextCNN\n",
    "model = TextCNN()"
   ]
  },
  {
   "cell_type": "code",
   "execution_count": 2,
   "metadata": {},
   "outputs": [
    {
     "name": "stdout",
     "output_type": "stream",
     "text": [
      "WARNING:tensorflow:From D:\\Software_install_here\\Anaconda3\\lib\\site-packages\\tensorflow\\python\\training\\saver.py:1266: checkpoint_exists (from tensorflow.python.training.checkpoint_management) is deprecated and will be removed in a future version.\n",
      "Instructions for updating:\n",
      "Use standard file APIs to check for files with this prefix.\n",
      "INFO:tensorflow:Restoring parameters from checkpoints\\best_validation\n",
      "模型加载完成！\n"
     ]
    }
   ],
   "source": [
    "model.load_model(\"checkpoints\\\\best_validation\")"
   ]
  },
  {
   "cell_type": "code",
   "execution_count": 3,
   "metadata": {},
   "outputs": [
    {
     "name": "stdout",
     "output_type": "stream",
     "text": [
      "数据加载完成，共  3 条数据\n",
      "字典加载完成！\n",
      "数据预处理完成！\n"
     ]
    },
    {
     "data": {
      "text/plain": [
       "['体育', '财经', '时政']"
      ]
     },
     "execution_count": 3,
     "metadata": {},
     "output_type": "execute_result"
    }
   ],
   "source": [
    "model.predict('textCNN\\\\data\\\\pred_data.txt') # 预测"
   ]
  },
  {
   "cell_type": "code",
   "execution_count": null,
   "metadata": {},
   "outputs": [],
   "source": []
  },
  {
   "cell_type": "code",
   "execution_count": null,
   "metadata": {},
   "outputs": [],
   "source": []
  }
 ],
 "metadata": {
  "kernelspec": {
   "display_name": "Python 3",
   "language": "python",
   "name": "python3"
  },
  "language_info": {
   "codemirror_mode": {
    "name": "ipython",
    "version": 3
   },
   "file_extension": ".py",
   "mimetype": "text/x-python",
   "name": "python",
   "nbconvert_exporter": "python",
   "pygments_lexer": "ipython3",
   "version": "3.7.1"
  }
 },
 "nbformat": 4,
 "nbformat_minor": 2
}
