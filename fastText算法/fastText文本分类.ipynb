{
 "cells": [
  {
   "cell_type": "markdown",
   "metadata": {},
   "source": [
    "### FastText文本分类"
   ]
  },
  {
   "cell_type": "markdown",
   "metadata": {},
   "source": [
    "### train_supervised方法参数\n",
    "\n",
    "    input             # 训练文件路径(必选参数)(带标签__label__XX的utf-8编码的文本txt)\n",
    "    lr                # 学习率 [0.1]\n",
    "    dim               # 词向量维度 [100]\n",
    "    ws                # 上下文窗口大小 [5]\n",
    "    epoch             # 训练轮数 [5]\n",
    "    minCount           # 词出现的最小次数[1]\n",
    "    minCountLabel        # 标签出现的最小次数 [1]\n",
    "    minn              # char ngram的最小长度 [0]\n",
    "    maxn              # char ngram的最大长度 [0]\n",
    "    neg               # 负采样的数量 [5]\n",
    "    wordNgrams          # word ngram的最大长度 [1]\n",
    "    loss              # 损失函数 {ns, hs, softmax, ova} [softmax]\n",
    "    bucket            # buckets数量 [2000000]\n",
    "    thread            # threads数量 [number of cpus]\n",
    "    lrUpdateRate        # 学习率更新的速率 [100]\n",
    "    t                # 采样阈值 [0.0001]\n",
    "    label             # 标签前缀形式 ['__label__']\n",
    "    verbose           # verbose [2]\n",
    "    pretrainedVectors     # 预训练的词向量 (.vec file) for supervised learning []"
   ]
  },
  {
   "cell_type": "code",
   "execution_count": 1,
   "metadata": {},
   "outputs": [],
   "source": [
    "import fasttext"
   ]
  },
  {
   "cell_type": "code",
   "execution_count": 2,
   "metadata": {},
   "outputs": [],
   "source": [
    "train_data = 'data\\\\train_data.txt'\n",
    "test_data = 'data\\\\test_data.txt'"
   ]
  },
  {
   "cell_type": "markdown",
   "metadata": {},
   "source": [
    "### 训练"
   ]
  },
  {
   "cell_type": "code",
   "execution_count": 3,
   "metadata": {},
   "outputs": [],
   "source": [
    "model = fasttext.train_supervised(train_data) "
   ]
  },
  {
   "cell_type": "code",
   "execution_count": 4,
   "metadata": {},
   "outputs": [
    {
     "data": {
      "text/plain": [
       "['__label__technology',\n",
       " '__label__entertainment',\n",
       " '__label__sports',\n",
       " '__label__military',\n",
       " '__label__car']"
      ]
     },
     "execution_count": 4,
     "metadata": {},
     "output_type": "execute_result"
    }
   ],
   "source": [
    "# 属性words 和 labels 返回词典中的词和标签\n",
    "# model.words         # 相当于 model.get_words() \n",
    "model.labels        # 相当于 model.get_labels() # 5类标签：科技，娱乐，体育，军事，汽车"
   ]
  },
  {
   "cell_type": "code",
   "execution_count": 5,
   "metadata": {},
   "outputs": [
    {
     "data": {
      "text/plain": [
       "array([0., 0., 0., 0., 0., 0., 0., 0., 0., 0., 0., 0., 0., 0., 0., 0., 0.,\n",
       "       0., 0., 0., 0., 0., 0., 0., 0., 0., 0., 0., 0., 0., 0., 0., 0., 0.,\n",
       "       0., 0., 0., 0., 0., 0., 0., 0., 0., 0., 0., 0., 0., 0., 0., 0., 0.,\n",
       "       0., 0., 0., 0., 0., 0., 0., 0., 0., 0., 0., 0., 0., 0., 0., 0., 0.,\n",
       "       0., 0., 0., 0., 0., 0., 0., 0., 0., 0., 0., 0., 0., 0., 0., 0., 0.,\n",
       "       0., 0., 0., 0., 0., 0., 0., 0., 0., 0., 0., 0., 0., 0., 0.],\n",
       "      dtype=float32)"
      ]
     },
     "execution_count": 5,
     "metadata": {},
     "output_type": "execute_result"
    }
   ],
   "source": [
    "# 获取词向量表示\n",
    "model['国家'] # # equivalent to model.get_word_vector('king')"
   ]
  },
  {
   "cell_type": "markdown",
   "metadata": {},
   "source": [
    "### 测试"
   ]
  },
  {
   "cell_type": "code",
   "execution_count": 6,
   "metadata": {},
   "outputs": [
    {
     "name": "stdout",
     "output_type": "stream",
     "text": [
      "N\t26260\n",
      "P@1\t0.900\n",
      "R@1\t0.900\n"
     ]
    }
   ],
   "source": [
    "# 评估模型\n",
    "def print_results(N, p, r):\n",
    "    print(\"N\\t\" + str(N))\n",
    "    print(\"P@{}\\t{:.3f}\".format(1, p)) # 精确率\n",
    "    print(\"R@{}\\t{:.3f}\".format(1, r)) # 召回率\n",
    "\n",
    "print_results(*model.test(test_data))"
   ]
  },
  {
   "cell_type": "markdown",
   "metadata": {},
   "source": [
    "### 预测 "
   ]
  },
  {
   "cell_type": "code",
   "execution_count": 7,
   "metadata": {},
   "outputs": [
    {
     "data": {
      "text/plain": [
       "(('__label__entertainment',), array([0.98527485]))"
      ]
     },
     "execution_count": 7,
     "metadata": {},
     "output_type": "execute_result"
    }
   ],
   "source": [
    "# 预测特定文本的标签\n",
    "model.predict(\" 2013 年底 阿里 集团 收购 天天 动听 旗下 虾米 音乐 合并 海洋 音乐\")"
   ]
  },
  {
   "cell_type": "code",
   "execution_count": 8,
   "metadata": {},
   "outputs": [
    {
     "data": {
      "text/plain": [
       "(('__label__entertainment', '__label__technology', '__label__sports'),\n",
       " array([9.85274851e-01, 1.40851224e-02, 3.73448565e-04]))"
      ]
     },
     "execution_count": 8,
     "metadata": {},
     "output_type": "execute_result"
    }
   ],
   "source": [
    "# 默认情况下，predict仅返回一个标签：概率最高的标签。可以通过指定参数来预测多个标签k\n",
    "model.predict(\" 2013 年底 阿里 集团 收购 天天 动听 旗下 虾米 音乐 合并 海洋 音乐\", k=3)"
   ]
  },
  {
   "cell_type": "code",
   "execution_count": 9,
   "metadata": {},
   "outputs": [
    {
     "data": {
      "text/plain": [
       "([['__label__entertainment', '__label__technology', '__label__sports'],\n",
       "  ['__label__technology', '__label__entertainment', '__label__car']],\n",
       " array([[9.85274851e-01, 1.40851224e-02, 3.73448565e-04],\n",
       "        [8.94260108e-01, 7.15281963e-02, 2.90484205e-02]]))"
      ]
     },
     "execution_count": 9,
     "metadata": {},
     "output_type": "execute_result"
    }
   ],
   "source": [
    "# 要预测多个句子，可以传递一个字符串数组\n",
    "model.predict([\" 2013 年底 阿里 集团 收购 天天 动听 旗下 虾米 音乐 合并 海洋 音乐\", \\\n",
    "               \"本次 赛事 门票 南宁 市民 免费 提供\"], k=3)"
   ]
  },
  {
   "cell_type": "markdown",
   "metadata": {},
   "source": [
    "###  保存模型"
   ]
  },
  {
   "cell_type": "code",
   "execution_count": 10,
   "metadata": {},
   "outputs": [],
   "source": [
    "model.save_model(\"model\\\\news_classifier.bin\")"
   ]
  },
  {
   "cell_type": "markdown",
   "metadata": {},
   "source": [
    "### 压缩模型\n",
    "quantize(input=None, qout=False, cutoff=0, retrain=False, epoch=None, lr=None, thread=None, verbose=None, dsub=2, qnorm=False)"
   ]
  },
  {
   "cell_type": "code",
   "execution_count": 11,
   "metadata": {},
   "outputs": [
    {
     "name": "stdout",
     "output_type": "stream",
     "text": [
      "N\t26260\n",
      "P@1\t0.895\n",
      "R@1\t0.895\n"
     ]
    }
   ],
   "source": [
    "model.quantize(input=train_data, qnorm=True, retrain=True, cutoff=100000) # 压缩模型\n",
    "print_results(*model.test(test_data))\n",
    "model.save_model(\"model\\\\news_classifier.ftz\")"
   ]
  },
  {
   "cell_type": "markdown",
   "metadata": {},
   "source": [
    "###  加载模型 "
   ]
  },
  {
   "cell_type": "code",
   "execution_count": 12,
   "metadata": {},
   "outputs": [
    {
     "name": "stdout",
     "output_type": "stream",
     "text": [
      "Help on function load_model in module fasttext.FastText:\n",
      "\n",
      "load_model(path)\n",
      "    Load a model given a filepath and return a model object.\n",
      "\n"
     ]
    }
   ],
   "source": [
    "help(fasttext.load_model)"
   ]
  },
  {
   "cell_type": "code",
   "execution_count": 13,
   "metadata": {},
   "outputs": [
    {
     "name": "stderr",
     "output_type": "stream",
     "text": [
      "\n"
     ]
    },
    {
     "data": {
      "text/plain": [
       "(('__label__sports',), array([1.00001001]))"
      ]
     },
     "execution_count": 13,
     "metadata": {},
     "output_type": "execute_result"
    }
   ],
   "source": [
    "# 加载模型并预测\n",
    "model_path = \"model\\\\news_classifier.bin\"\n",
    "model_loaded = fasttext.load_model(model_path) \n",
    "model_loaded.predict(\"CBA 四川 品胜 男篮 主场 广东 宏远 比赛 四川队 大胜 排名 紧紧 咬住 山东 北京 保留 很大 晋级 季后赛\")"
   ]
  },
  {
   "cell_type": "markdown",
   "metadata": {},
   "source": [
    "### 模型方法\n",
    "\n",
    "    get_dimension          # 获取lookup vector的维度 (hidden layer).# 等价于 `dim` 属性\n",
    "    get_input_vector        # 获取给定标签在输入矩阵中相应的向量\n",
    "    get_input_matrix        # 获取模型的输入矩阵的副本\n",
    "    get_labels            # 获取字典中的标签列表 # 等价于`labels` 属性\n",
    "    get_line             # 将一行文本分割为词和标签\n",
    "    get_output_matrix       # 获取模型的输出矩阵的副本\n",
    "    get_sentence_vector      # 获取给定字符串的一个向量表示\n",
    "    get_subword_id         # 获取subword的被哈希到的索引\n",
    "    get_subwords          # 获取给定词的subwords和其索引\n",
    "    get_word_id           # 获取给定词在字典中的id\n",
    "    get_word_vector        # 获取词向量表示\n",
    "    get_words            # 获取字典中所有词 # 等价于`words`属性\n",
    "    is_quantized          # 模型是否被压缩\n",
    "    predict             # 输入待预测字符串，输出一个预测标签和概率的列表\n",
    "    quantize             # 压缩模型\n",
    "    save_model            # 保存模型\n",
    "    test                # 在测试集上评估模型性能\n",
    "    test_label            # 返回每一类的准确率和召回率 "
   ]
  },
  {
   "cell_type": "code",
   "execution_count": 19,
   "metadata": {},
   "outputs": [
    {
     "data": {
      "text/plain": [
       "(['__label__technology',\n",
       "  '__label__entertainment',\n",
       "  '__label__sports',\n",
       "  '__label__military',\n",
       "  '__label__car'],\n",
       " array([13993, 13984, 13912, 11740,  7671]))"
      ]
     },
     "execution_count": 19,
     "metadata": {},
     "output_type": "execute_result"
    }
   ],
   "source": [
    "model_loaded.get_labels(include_freq=True)"
   ]
  },
  {
   "cell_type": "code",
   "execution_count": 22,
   "metadata": {},
   "outputs": [
    {
     "name": "stdout",
     "output_type": "stream",
     "text": [
      "Help on method get_labels in module fasttext.FastText:\n",
      "\n",
      "get_labels(include_freq=False, on_unicode_error='strict') method of fasttext.FastText._FastText instance\n",
      "    Get the entire list of labels of the dictionary optionally\n",
      "    including the frequency of the individual labels. Unsupervised\n",
      "    models use words as labels, which is why get_labels\n",
      "    will call and return get_words for this type of\n",
      "    model.\n",
      "\n"
     ]
    }
   ],
   "source": [
    "help(model_loaded.get_labels)"
   ]
  },
  {
   "cell_type": "code",
   "execution_count": null,
   "metadata": {},
   "outputs": [],
   "source": []
  },
  {
   "cell_type": "code",
   "execution_count": null,
   "metadata": {},
   "outputs": [],
   "source": []
  },
  {
   "cell_type": "code",
   "execution_count": null,
   "metadata": {},
   "outputs": [],
   "source": []
  },
  {
   "cell_type": "code",
   "execution_count": null,
   "metadata": {},
   "outputs": [],
   "source": []
  }
 ],
 "metadata": {
  "kernelspec": {
   "display_name": "Python 3",
   "language": "python",
   "name": "python3"
  },
  "language_info": {
   "codemirror_mode": {
    "name": "ipython",
    "version": 3
   },
   "file_extension": ".py",
   "mimetype": "text/x-python",
   "name": "python",
   "nbconvert_exporter": "python",
   "pygments_lexer": "ipython3",
   "version": "3.7.1"
  }
 },
 "nbformat": 4,
 "nbformat_minor": 2
}
