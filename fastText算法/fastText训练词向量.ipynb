{
 "cells": [
  {
   "cell_type": "markdown",
   "metadata": {},
   "source": [
    "## fastText训练词向量\n",
    "\n",
    "### train_unsupervised方法参数\n",
    "\n",
    "    input             # 训练文件路径(必选参数)\n",
    "    model             #  无监督 fasttext 模型 {cbow, skipgram} [skipgram]\n",
    "    lr                # 学习率 [0.05]\n",
    "    dim               # 词向量维度 [100]\n",
    "    ws                # 上下文窗口大小 [5]\n",
    "    epoch             # 训练轮数 [5]\n",
    "    minCount           # 词出现的最小次数 [5]\n",
    "    minn              # char ngram的最小长度 [3]\n",
    "    maxn              # char ngram的最大长度 [6]\n",
    "    neg               # 负采样的数量 [5]\n",
    "    wordNgrams          # word ngram的最大长度 [1]\n",
    "    loss              # 损失函数 {ns, hs, softmax, ova} [ns](与文本分类softmax不同)\n",
    "    bucket            # buckets数量 [2000000]\n",
    "    thread            # threads数量 [number of cpus]\n",
    "    lrUpdateRate        # 学习率更新的速率 [100]\n",
    "    t                # 采样阈值 [0.0001]\n",
    "    verbose           # verbose [2]"
   ]
  },
  {
   "cell_type": "markdown",
   "metadata": {},
   "source": [
    "### 准备数据"
   ]
  },
  {
   "cell_type": "code",
   "execution_count": 3,
   "metadata": {},
   "outputs": [],
   "source": [
    "import jieba\n",
    "import pandas as pd\n",
    "import random\n",
    "\n",
    "cate_dic = {'technology':1, 'car':2, 'entertainment':3, 'military':4, 'sports':5}\n",
    "\n",
    "df_technology = pd.read_csv(\"./raw_data/technology_news.csv\", encoding='utf-8')\n",
    "df_technology = df_technology.dropna()\n",
    "\n",
    "df_car = pd.read_csv(\"./raw_data/car_news.csv\", encoding='utf-8')\n",
    "df_car = df_car.dropna()\n",
    "\n",
    "df_entertainment = pd.read_csv(\"./raw_data/entertainment_news.csv\", encoding='utf-8')\n",
    "df_entertainment = df_entertainment.dropna()\n",
    "\n",
    "df_military = pd.read_csv(\"./raw_data/military_news.csv\", encoding='utf-8')\n",
    "df_military = df_military.dropna()\n",
    "\n",
    "df_sports = pd.read_csv(\"./raw_data/sports_news.csv\", encoding='utf-8')\n",
    "df_sports = df_sports.dropna()\n",
    "\n",
    "technology = df_technology.content.values.tolist()[1000:21000]\n",
    "car = df_car.content.values.tolist()[1000:21000]\n",
    "entertainment = df_entertainment.content.values.tolist()[:20000]\n",
    "military = df_military.content.values.tolist()[:20000]\n",
    "sports = df_sports.content.values.tolist()[:20000]"
   ]
  },
  {
   "cell_type": "code",
   "execution_count": 4,
   "metadata": {},
   "outputs": [],
   "source": [
    "stopwords=pd.read_csv(\"raw_data/stopwords.txt\",index_col=False,quoting=3,sep=\"\\t\",names=['stopword'], encoding='utf-8')\n",
    "stopwords=stopwords['stopword'].values"
   ]
  },
  {
   "cell_type": "code",
   "execution_count": 6,
   "metadata": {},
   "outputs": [
    {
     "name": "stderr",
     "output_type": "stream",
     "text": [
      "Building prefix dict from the default dictionary ...\n",
      "Loading model from cache C:\\Users\\蓝沛辉\\AppData\\Local\\Temp\\jieba.cache\n",
      "Loading model cost 0.669 seconds.\n",
      "Prefix dict has been built succesfully.\n"
     ]
    },
    {
     "name": "stdout",
     "output_type": "stream",
     "text": [
      "writing data to fasttext unsupervised learning format...\n",
      "done!\n"
     ]
    }
   ],
   "source": [
    "def preprocess_text(content_lines, sentences):\n",
    "    for line in content_lines:\n",
    "        try:\n",
    "            segs=jieba.lcut(line)\n",
    "            segs = filter(lambda x:len(x)>1, segs)\n",
    "            segs = filter(lambda x:x not in stopwords, segs)\n",
    "            sentences.append(\" \".join(list(segs)))\n",
    "        except Exception as e:\n",
    "            print (line)\n",
    "            continue\n",
    "\n",
    "#生成无监督训练数据\n",
    "sentences = []\n",
    "\n",
    "preprocess_text(technology, sentences)\n",
    "preprocess_text(car, sentences)\n",
    "preprocess_text(entertainment, sentences)\n",
    "preprocess_text(military, sentences)\n",
    "preprocess_text(sports, sentences)\n",
    "\n",
    "print (\"writing data to fasttext unsupervised learning format...\")\n",
    "out = open('data\\\\unsupervised_train_data.txt', 'w')\n",
    "for sentence in sentences:\n",
    "    out.write((sentence.encode('utf8')+b\"\\n\").decode('utf-8'))\n",
    "print (\"done!\")          "
   ]
  },
  {
   "cell_type": "markdown",
   "metadata": {},
   "source": [
    "### 训练"
   ]
  },
  {
   "cell_type": "code",
   "execution_count": 9,
   "metadata": {},
   "outputs": [],
   "source": [
    "import fasttext"
   ]
  },
  {
   "cell_type": "code",
   "execution_count": 10,
   "metadata": {},
   "outputs": [],
   "source": [
    "data = 'data\\\\unsupervised_train_data.txt'"
   ]
  },
  {
   "cell_type": "code",
   "execution_count": 11,
   "metadata": {},
   "outputs": [],
   "source": [
    "# Skipgram model :\n",
    "model_1 = fasttext.train_unsupervised(data, model='skipgram') # data.txt是utf-8编码文本"
   ]
  },
  {
   "cell_type": "code",
   "execution_count": null,
   "metadata": {},
   "outputs": [],
   "source": [
    "# Cbow model :\n",
    "model_2 = fasttext.train_unsupervised(data, model='cbow')"
   ]
  },
  {
   "cell_type": "code",
   "execution_count": null,
   "metadata": {},
   "outputs": [],
   "source": [
    "print(model.words)   # 词典中的词表"
   ]
  },
  {
   "cell_type": "code",
   "execution_count": 12,
   "metadata": {},
   "outputs": [
    {
     "data": {
      "text/plain": [
       "array([-4.4787051e-03,  1.2972057e-03, -5.0250739e-03,  2.9631550e-03,\n",
       "       -1.2483088e-03,  2.9456383e-04, -3.9305104e-04,  3.3398918e-03,\n",
       "       -6.3427626e-03,  2.5978622e-03,  1.8252918e-04, -1.8181484e-03,\n",
       "        5.6679072e-03, -2.6607672e-03,  4.0851950e-04, -3.4037714e-03,\n",
       "        5.8991308e-03, -6.0255881e-03, -3.3152278e-03,  2.0057876e-03,\n",
       "        3.5899791e-03,  5.8529209e-03, -2.5443512e-04,  8.3455059e-04,\n",
       "       -3.6558888e-03, -3.8529690e-03, -1.3230797e-03,  3.0187019e-03,\n",
       "        1.9300142e-03, -7.2127627e-03,  1.7569985e-03,  4.9687820e-03,\n",
       "       -9.4492771e-06, -2.4825823e-03,  3.4017721e-04, -4.3410761e-03,\n",
       "       -3.0617947e-03, -2.2544619e-03, -2.1202508e-03, -3.5221984e-03,\n",
       "       -2.3038359e-03,  5.5500842e-03,  3.4701516e-04,  6.2678903e-03,\n",
       "        4.2757262e-03,  6.1755865e-03,  2.1385388e-03, -3.4973975e-03,\n",
       "        1.3128852e-03,  4.5425440e-03,  9.6920725e-05, -2.7969887e-03,\n",
       "       -9.5862150e-04,  1.1946324e-03,  1.5304051e-04, -1.8393546e-03,\n",
       "        1.4031746e-03, -2.2232076e-03,  3.3747344e-03, -2.2779421e-04,\n",
       "        1.6708171e-03,  1.4701401e-03,  2.7279973e-03, -6.7095440e-03,\n",
       "       -7.1146726e-03,  1.7118040e-03,  5.8087050e-03,  4.3959860e-03,\n",
       "        2.1416475e-03,  1.3644708e-03, -1.9647034e-03,  2.0778698e-03,\n",
       "        2.1595260e-04,  1.7186736e-03,  1.9127470e-03,  6.2643625e-03,\n",
       "        2.4524610e-03, -3.7693065e-03,  8.6573511e-04,  8.7194145e-04,\n",
       "        3.6939492e-03,  3.7837308e-03,  3.3391843e-04,  2.4000166e-03,\n",
       "       -1.6101776e-03,  7.6572399e-04,  3.6683650e-04, -5.7209050e-03,\n",
       "        1.5043057e-04, -3.6148573e-03,  3.5851094e-04,  4.6537593e-03,\n",
       "        3.5727844e-03, -2.9078685e-03,  3.0793406e-03,  2.2860349e-03,\n",
       "       -2.0940925e-03,  4.1045435e-03,  8.5918279e-04, -9.4701629e-04],\n",
       "      dtype=float32)"
      ]
     },
     "execution_count": 12,
     "metadata": {},
     "output_type": "execute_result"
    }
   ],
   "source": [
    "model_1['赛季'] # '赛季' 的向量表示"
   ]
  },
  {
   "cell_type": "markdown",
   "metadata": {},
   "source": [
    "### 保存模型"
   ]
  },
  {
   "cell_type": "code",
   "execution_count": 13,
   "metadata": {},
   "outputs": [],
   "source": [
    "# 保存并加载模型对象\n",
    "model_1.save_model(\"model\\\\model_skipgram.bin\")"
   ]
  },
  {
   "cell_type": "markdown",
   "metadata": {},
   "source": [
    "### 加载模型"
   ]
  },
  {
   "cell_type": "code",
   "execution_count": null,
   "metadata": {},
   "outputs": [],
   "source": [
    "model = fasttext.load_model(\"model\\\\model_filename.bin\")"
   ]
  },
  {
   "cell_type": "code",
   "execution_count": null,
   "metadata": {},
   "outputs": [],
   "source": []
  },
  {
   "cell_type": "code",
   "execution_count": null,
   "metadata": {},
   "outputs": [],
   "source": []
  }
 ],
 "metadata": {
  "kernelspec": {
   "display_name": "Python 3",
   "language": "python",
   "name": "python3"
  },
  "language_info": {
   "codemirror_mode": {
    "name": "ipython",
    "version": 3
   },
   "file_extension": ".py",
   "mimetype": "text/x-python",
   "name": "python",
   "nbconvert_exporter": "python",
   "pygments_lexer": "ipython3",
   "version": "3.7.1"
  }
 },
 "nbformat": 4,
 "nbformat_minor": 2
}
