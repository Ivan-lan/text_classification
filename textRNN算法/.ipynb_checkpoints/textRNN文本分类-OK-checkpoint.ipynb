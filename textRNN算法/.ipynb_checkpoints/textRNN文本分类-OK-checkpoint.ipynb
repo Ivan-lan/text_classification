{
 "cells": [
  {
   "cell_type": "code",
   "execution_count": 1,
   "metadata": {},
   "outputs": [
    {
     "name": "stdout",
     "output_type": "stream",
     "text": [
      "WARNING:tensorflow:From D:\\Software_install_here\\Anaconda3\\lib\\site-packages\\tensorflow\\python\\framework\\op_def_library.py:263: colocate_with (from tensorflow.python.framework.ops) is deprecated and will be removed in a future version.\n",
      "Instructions for updating:\n",
      "Colocations handled automatically by placer.\n",
      "WARNING:tensorflow:From C:\\Users\\蓝沛辉\\Desktop\\文本分类项目\\textRNN项目 - V2\\textRNN\\textRNN.py:55: GRUCell.__init__ (from tensorflow.python.ops.rnn_cell_impl) is deprecated and will be removed in a future version.\n",
      "Instructions for updating:\n",
      "This class is equivalent as tf.keras.layers.GRUCell, and will be replaced by that in Tensorflow 2.0.\n",
      "WARNING:tensorflow:From C:\\Users\\蓝沛辉\\Desktop\\文本分类项目\\textRNN项目 - V2\\textRNN\\textRNN.py:73: MultiRNNCell.__init__ (from tensorflow.python.ops.rnn_cell_impl) is deprecated and will be removed in a future version.\n",
      "Instructions for updating:\n",
      "This class is equivalent as tf.keras.layers.StackedRNNCells, and will be replaced by that in Tensorflow 2.0.\n",
      "WARNING:tensorflow:From C:\\Users\\蓝沛辉\\Desktop\\文本分类项目\\textRNN项目 - V2\\textRNN\\textRNN.py:75: dynamic_rnn (from tensorflow.python.ops.rnn) is deprecated and will be removed in a future version.\n",
      "Instructions for updating:\n",
      "Please use `keras.layers.RNN(cell)`, which is equivalent to this API\n",
      "WARNING:tensorflow:From D:\\Software_install_here\\Anaconda3\\lib\\site-packages\\tensorflow\\python\\ops\\rnn_cell_impl.py:1259: calling dropout (from tensorflow.python.ops.nn_ops) with keep_prob is deprecated and will be removed in a future version.\n",
      "Instructions for updating:\n",
      "Please use `rate` instead of `keep_prob`. Rate should be set to `rate = 1 - keep_prob`.\n",
      "WARNING:tensorflow:From D:\\Software_install_here\\Anaconda3\\lib\\site-packages\\tensorflow\\python\\ops\\array_grad.py:425: to_int32 (from tensorflow.python.ops.math_ops) is deprecated and will be removed in a future version.\n",
      "Instructions for updating:\n",
      "Use tf.cast instead.\n"
     ]
    }
   ],
   "source": [
    "from textRNN.textRNN import *\n",
    "\n",
    "model = TextRNN()"
   ]
  },
  {
   "cell_type": "code",
   "execution_count": 2,
   "metadata": {},
   "outputs": [
    {
     "name": "stdout",
     "output_type": "stream",
     "text": [
      "训练集加载成功,共  50000  条数据。\n",
      "字符-id映射字典加载成功！\n",
      "训练集数据预处理完成！\n",
      "验证集加载和预处理完成，共 5000 条数据。\n",
      "开始训练模型！\n",
      "Epoch: 1\n",
      "Iter:     0, Train loss:   2.3,Train acc: 11.72%,                           Val loss:   2.3, Val acc: 12.10%  *\n",
      "Iter:   100, Train loss:   1.3,Train acc: 50.78%,                           Val loss:   1.4, Val acc: 48.04%  *\n",
      "Iter:   200, Train loss:  0.53,Train acc: 85.94%,                           Val loss:  0.77, Val acc: 76.00%  *\n",
      "Iter:   300, Train loss:  0.26,Train acc: 92.19%,                           Val loss:   0.7, Val acc: 79.92%  *\n",
      "Epoch: 2\n",
      "Iter:   400, Train loss:  0.26,Train acc: 92.19%,                           Val loss:  0.48, Val acc: 86.38%  *\n",
      "Iter:   500, Train loss:  0.18,Train acc: 92.97%,                           Val loss:  0.53, Val acc: 86.10%  \n",
      "模型性能在验证集上不再提升，提前停止训练……\n"
     ]
    }
   ],
   "source": [
    "model.train(\"data\\\\train_data.txt\",\"data\\\\val_data.txt\")"
   ]
  },
  {
   "cell_type": "code",
   "execution_count": 4,
   "metadata": {},
   "outputs": [
    {
     "name": "stdout",
     "output_type": "stream",
     "text": [
      "测试集加载和预处理完成，共  10000  条数据。\n",
      "Test loss:   0.37, Test acc:  88.36%\n",
      "精确率   召回率   F1分数\n"
     ]
    },
    {
     "ename": "NameError",
     "evalue": "name 'cates' is not defined",
     "output_type": "error",
     "traceback": [
      "\u001b[1;31m---------------------------------------------------------------------------\u001b[0m",
      "\u001b[1;31mNameError\u001b[0m                                 Traceback (most recent call last)",
      "\u001b[1;32m<ipython-input-4-2eadc925f7b2>\u001b[0m in \u001b[0;36m<module>\u001b[1;34m\u001b[0m\n\u001b[1;32m----> 1\u001b[1;33m \u001b[0mmodel\u001b[0m\u001b[1;33m.\u001b[0m\u001b[0mtest\u001b[0m\u001b[1;33m(\u001b[0m\u001b[1;34m\"data\\\\test_data.txt\"\u001b[0m\u001b[1;33m)\u001b[0m\u001b[1;33m\u001b[0m\u001b[1;33m\u001b[0m\u001b[0m\n\u001b[0m",
      "\u001b[1;32m~\\Desktop\\文本分类项目\\textRNN项目 - V2\\textRNN\\textRNN.py\u001b[0m in \u001b[0;36mtest\u001b[1;34m(self, test_file)\u001b[0m\n\u001b[0;32m    221\u001b[0m \u001b[1;33m\u001b[0m\u001b[0m\n\u001b[0;32m    222\u001b[0m         \u001b[0mprint\u001b[0m\u001b[1;33m(\u001b[0m\u001b[1;34m\"精确率   召回率   F1分数\"\u001b[0m\u001b[1;33m)\u001b[0m\u001b[1;33m\u001b[0m\u001b[1;33m\u001b[0m\u001b[0m\n\u001b[1;32m--> 223\u001b[1;33m         \u001b[0mprint\u001b[0m\u001b[1;33m(\u001b[0m\u001b[0mmetrics\u001b[0m\u001b[1;33m.\u001b[0m\u001b[0mclassification_report\u001b[0m\u001b[1;33m(\u001b[0m\u001b[0my_test_class\u001b[0m\u001b[1;33m,\u001b[0m \u001b[0my_pred_class\u001b[0m\u001b[1;33m,\u001b[0m \u001b[0mtarget_names\u001b[0m\u001b[1;33m=\u001b[0m\u001b[0mcates\u001b[0m\u001b[1;33m)\u001b[0m\u001b[1;33m)\u001b[0m\u001b[1;33m\u001b[0m\u001b[1;33m\u001b[0m\u001b[0m\n\u001b[0m\u001b[0;32m    224\u001b[0m \u001b[1;33m\u001b[0m\u001b[0m\n\u001b[0;32m    225\u001b[0m         \u001b[0mprint\u001b[0m\u001b[1;33m(\u001b[0m\u001b[1;34m\"混淆矩阵：\"\u001b[0m\u001b[1;33m)\u001b[0m\u001b[1;33m\u001b[0m\u001b[1;33m\u001b[0m\u001b[0m\n",
      "\u001b[1;31mNameError\u001b[0m: name 'cates' is not defined"
     ]
    }
   ],
   "source": [
    "model.test(\"data\\\\test_data.txt\")"
   ]
  },
  {
   "cell_type": "code",
   "execution_count": 3,
   "metadata": {},
   "outputs": [
    {
     "name": "stdout",
     "output_type": "stream",
     "text": [
      "数据加载完成，共  3 条数据\n",
      "字典加载完成！\n",
      "数据预处理完成！\n"
     ]
    },
    {
     "data": {
      "text/plain": [
       "['体育', '财经', '时政']"
      ]
     },
     "execution_count": 3,
     "metadata": {},
     "output_type": "execute_result"
    }
   ],
   "source": [
    "model.predict(\"data\\\\pred_data.txt\")"
   ]
  },
  {
   "cell_type": "code",
   "execution_count": null,
   "metadata": {},
   "outputs": [],
   "source": []
  },
  {
   "cell_type": "markdown",
   "metadata": {},
   "source": [
    "### 加载模型"
   ]
  },
  {
   "cell_type": "code",
   "execution_count": 1,
   "metadata": {},
   "outputs": [
    {
     "name": "stdout",
     "output_type": "stream",
     "text": [
      "WARNING:tensorflow:From D:\\Software_install_here\\Anaconda3\\lib\\site-packages\\tensorflow\\python\\framework\\op_def_library.py:263: colocate_with (from tensorflow.python.framework.ops) is deprecated and will be removed in a future version.\n",
      "Instructions for updating:\n",
      "Colocations handled automatically by placer.\n",
      "WARNING:tensorflow:From C:\\Users\\蓝沛辉\\Desktop\\文本分类项目\\textRNN项目 - V2\\textRNN\\textRNN.py:55: GRUCell.__init__ (from tensorflow.python.ops.rnn_cell_impl) is deprecated and will be removed in a future version.\n",
      "Instructions for updating:\n",
      "This class is equivalent as tf.keras.layers.GRUCell, and will be replaced by that in Tensorflow 2.0.\n",
      "WARNING:tensorflow:From C:\\Users\\蓝沛辉\\Desktop\\文本分类项目\\textRNN项目 - V2\\textRNN\\textRNN.py:73: MultiRNNCell.__init__ (from tensorflow.python.ops.rnn_cell_impl) is deprecated and will be removed in a future version.\n",
      "Instructions for updating:\n",
      "This class is equivalent as tf.keras.layers.StackedRNNCells, and will be replaced by that in Tensorflow 2.0.\n",
      "WARNING:tensorflow:From C:\\Users\\蓝沛辉\\Desktop\\文本分类项目\\textRNN项目 - V2\\textRNN\\textRNN.py:75: dynamic_rnn (from tensorflow.python.ops.rnn) is deprecated and will be removed in a future version.\n",
      "Instructions for updating:\n",
      "Please use `keras.layers.RNN(cell)`, which is equivalent to this API\n",
      "WARNING:tensorflow:From D:\\Software_install_here\\Anaconda3\\lib\\site-packages\\tensorflow\\python\\ops\\rnn_cell_impl.py:1259: calling dropout (from tensorflow.python.ops.nn_ops) with keep_prob is deprecated and will be removed in a future version.\n",
      "Instructions for updating:\n",
      "Please use `rate` instead of `keep_prob`. Rate should be set to `rate = 1 - keep_prob`.\n",
      "WARNING:tensorflow:From D:\\Software_install_here\\Anaconda3\\lib\\site-packages\\tensorflow\\python\\ops\\array_grad.py:425: to_int32 (from tensorflow.python.ops.math_ops) is deprecated and will be removed in a future version.\n",
      "Instructions for updating:\n",
      "Use tf.cast instead.\n"
     ]
    }
   ],
   "source": [
    "from textRNN.textRNN import *\n",
    "\n",
    "model = TextRNN()"
   ]
  },
  {
   "cell_type": "code",
   "execution_count": 2,
   "metadata": {},
   "outputs": [
    {
     "name": "stdout",
     "output_type": "stream",
     "text": [
      "WARNING:tensorflow:From D:\\Software_install_here\\Anaconda3\\lib\\site-packages\\tensorflow\\python\\training\\saver.py:1266: checkpoint_exists (from tensorflow.python.training.checkpoint_management) is deprecated and will be removed in a future version.\n",
      "Instructions for updating:\n",
      "Use standard file APIs to check for files with this prefix.\n",
      "INFO:tensorflow:Restoring parameters from checkpoints\\best_validation\n",
      "模型加载完成！\n"
     ]
    }
   ],
   "source": [
    "model.load_model(\"checkpoints\\\\best_validation\")"
   ]
  },
  {
   "cell_type": "code",
   "execution_count": 3,
   "metadata": {},
   "outputs": [
    {
     "name": "stdout",
     "output_type": "stream",
     "text": [
      "测试集加载和预处理完成，共  10000  条数据。\n",
      "Test loss:   0.33, Test acc:  89.59%\n",
      "精确率   召回率   F1分数\n",
      "              precision    recall  f1-score   support\n",
      "\n",
      "          科技       0.82      0.96      0.89      1000\n",
      "          娱乐       0.94      0.92      0.93      1000\n",
      "          房产       0.99      0.99      0.99      1000\n",
      "          财经       0.91      0.98      0.94      1000\n",
      "          时政       0.96      0.86      0.91      1000\n",
      "          游戏       0.92      0.88      0.90      1000\n",
      "          体育       0.98      0.98      0.98      1000\n",
      "          教育       0.69      0.90      0.78      1000\n",
      "          时尚       0.93      0.89      0.91      1000\n",
      "          家居       0.90      0.58      0.70      1000\n",
      "\n",
      "   micro avg       0.90      0.90      0.90     10000\n",
      "   macro avg       0.90      0.90      0.89     10000\n",
      "weighted avg       0.90      0.90      0.89     10000\n",
      "\n",
      "混淆矩阵：\n",
      "[[958   3   0   1   0  11   0  21   0   6]\n",
      " [ 32 923   0   0   1   7   6  14  15   2]\n",
      " [  0   1 994   0   0   0   0   4   1   0]\n",
      " [  0   0   3 984   9   0   0   4   0   0]\n",
      " [ 33   6   3  22 859   1   6  70   0   0]\n",
      " [ 76   4   0  13   0 883   3  14   3   4]\n",
      " [  4   7   0   0   0   3 985   1   0   0]\n",
      " [ 40  12   1  12  14   3   2 902   3  11]\n",
      " [  7  23   0   0   0  22   0  13 890  45]\n",
      " [ 13   3   1  55   9  25   2 268  43 581]]\n"
     ]
    }
   ],
   "source": [
    "model.test(\"data\\\\test_data.txt\")"
   ]
  },
  {
   "cell_type": "code",
   "execution_count": 4,
   "metadata": {},
   "outputs": [
    {
     "name": "stdout",
     "output_type": "stream",
     "text": [
      "数据加载完成，共  3 条数据\n",
      "字典加载完成！\n",
      "数据预处理完成！\n"
     ]
    },
    {
     "data": {
      "text/plain": [
       "['体育', '财经', '时政']"
      ]
     },
     "execution_count": 4,
     "metadata": {},
     "output_type": "execute_result"
    }
   ],
   "source": [
    "model.predict(\"data\\\\pred_data.txt\")"
   ]
  },
  {
   "cell_type": "code",
   "execution_count": null,
   "metadata": {},
   "outputs": [],
   "source": []
  },
  {
   "cell_type": "code",
   "execution_count": null,
   "metadata": {},
   "outputs": [],
   "source": []
  },
  {
   "cell_type": "code",
   "execution_count": null,
   "metadata": {},
   "outputs": [],
   "source": []
  }
 ],
 "metadata": {
  "kernelspec": {
   "display_name": "Python 3",
   "language": "python",
   "name": "python3"
  },
  "language_info": {
   "codemirror_mode": {
    "name": "ipython",
    "version": 3
   },
   "file_extension": ".py",
   "mimetype": "text/x-python",
   "name": "python",
   "nbconvert_exporter": "python",
   "pygments_lexer": "ipython3",
   "version": "3.7.1"
  }
 },
 "nbformat": 4,
 "nbformat_minor": 2
}
